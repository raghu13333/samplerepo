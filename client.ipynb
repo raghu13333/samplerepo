{
 "cells": [
  {
   "cell_type": "code",
   "execution_count": 5,
   "source": [
    "! curl -F \"file=@cat.jpg\" http://localhost:5000/home"
   ],
   "outputs": [
    {
     "output_type": "stream",
     "name": "stdout",
     "text": [
      "output"
     ]
    }
   ],
   "metadata": {}
  },
  {
   "cell_type": "code",
   "execution_count": 1,
   "source": [
    "! curl -H \"Content-Type: application/json\" --data @input.json http://localhost:5000/home"
   ],
   "outputs": [
    {
     "output_type": "stream",
     "name": "stdout",
     "text": [
      "<!DOCTYPE HTML PUBLIC \"-//W3C//DTD HTML 3.2 Final//EN\">\n",
      "<title>405 Method Not Allowed</title>\n",
      "<h1>Method Not Allowed</h1>\n",
      "<p>The method is not allowed for the requested URL.</p>\n"
     ]
    }
   ],
   "metadata": {}
  },
  {
   "cell_type": "code",
   "execution_count": null,
   "source": [],
   "outputs": [],
   "metadata": {}
  }
 ],
 "metadata": {
  "orig_nbformat": 4,
  "language_info": {
   "name": "python",
   "version": "3.7.5",
   "mimetype": "text/x-python",
   "codemirror_mode": {
    "name": "ipython",
    "version": 3
   },
   "pygments_lexer": "ipython3",
   "nbconvert_exporter": "python",
   "file_extension": ".py"
  },
  "kernelspec": {
   "name": "python3",
   "display_name": "Python 3.7.5 64-bit ('python37-pytorch': virtualenv)"
  },
  "interpreter": {
   "hash": "c131917d7dbe173bd0a861f5727e8842e2b9a668e802d84125f7f3aa663ca1a2"
  }
 },
 "nbformat": 4,
 "nbformat_minor": 2
}